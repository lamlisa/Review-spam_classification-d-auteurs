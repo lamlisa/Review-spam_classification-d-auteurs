{
 "cells": [
  {
   "cell_type": "markdown",
   "metadata": {},
   "source": [
    "## Classifieur d'auteurs Naive Bayes et SVM"
   ]
  },
  {
   "cell_type": "markdown",
   "metadata": {},
   "source": [
    "Données utilisées:\n",
    "http://snap.stanford.edu/data/amazon/productGraph/categoryFiles/reviews_Video_Games.json.gz"
   ]
  },
  {
   "cell_type": "markdown",
   "metadata": {},
   "source": [
    "### Import"
   ]
  },
  {
   "cell_type": "code",
   "execution_count": 1,
   "metadata": {},
   "outputs": [],
   "source": [
    "from classifieur import *"
   ]
  },
  {
   "cell_type": "markdown",
   "metadata": {},
   "source": [
    "### Data"
   ]
  },
  {
   "cell_type": "code",
   "execution_count": null,
   "metadata": {},
   "outputs": [],
   "source": [
    "data = getDF('reviews_Amazon_Instant_Video.json.gz')\n",
    "# pour appliquer le classsifieur sur d'autres données, il faut que les données soient dans un dataframe avec une colonne \n",
    "#'reviewerID' et une autre colonne 'reviewText'"
   ]
  },
  {
   "cell_type": "markdown",
   "metadata": {},
   "source": [
    "### Paramètres"
   ]
  },
  {
   "cell_type": "code",
   "execution_count": null,
   "metadata": {},
   "outputs": [],
   "source": [
    "nb_authors = 7   # nb d'auteurs qu'on souhaite classifier\n",
    "nb_reviews = 70   # nb de reviews par auteurs\n",
    "taux_train = 0.8\n",
    "ng = False   # True si on veut ngram de lettres\n",
    "nb_gram = 1   # nb_gram de lettres\n",
    "st = False   # True si on veut stem les données\n",
    "punct = False   # True si on veut enlever la ponctuation\n",
    "stop = None   # 'english' si on veut enlever les stopwords et qu'on a du texte en anglais, None sinon\n",
    "spe_char = False   # enleve caractères spécaiux (y compris la ponctuation)"
   ]
  },
  {
   "cell_type": "markdown",
   "metadata": {},
   "source": [
    "### Classification"
   ]
  },
  {
   "cell_type": "code",
   "execution_count": 5,
   "metadata": {},
   "outputs": [
    {
     "name": "stdout",
     "output_type": "stream",
     "text": [
      "precision NB : 0.7040778475371097\n",
      "rappel NB : 0.7285714285714284\n",
      "precision SVM : 0.9584058495192949\n",
      "rappel SVM : 0.9530612244897959\n"
     ]
    },
    {
     "data": {
      "image/png": "[encoded data removed]",
      "text/plain": [
       "<Figure size 432x288 with 2 Axes>"
      ]
     },
     "metadata": {
      "needs_background": "light"
     },
     "output_type": "display_data"
    },
    {
     "data": {
      "image/png": "[encoded data removed]",
      "text/plain": [
       "<Figure size 432x288 with 2 Axes>"
      ]
     },
     "metadata": {
      "needs_background": "light"
     },
     "output_type": "display_data"
    }
   ],
   "source": [
    "# préparation des données et labels\n",
    "df, y_data = recup_donnees(nb_authors, nb_reviews, data)\n",
    "\n",
    "# tf idf des reviews\n",
    "count_vect, df = preparation(df, stem=st, punctuation=punct, ngram=ng, n=nb_gram, stop_words=stop, special_char=spe_char)\n",
    "counts = count_vect.fit_transform(df['reviewText'])\n",
    "\n",
    "# Naive Bayes et SVM\n",
    "precisionNB, rappelNB = Naive_Bayes_Classifier(count_vect, df, y_data, nb_test, taux_train, nb_authors, nb_reviews)\n",
    "precisionSVM, rappelSVM = SVM_Classifier(count_vect, df, y_data, nb_test, taux_train, nb_authors, nb_reviews)\n",
    "\n",
    "print(\"precision NB : {}\".format(precisionNB))\n",
    "print(\"rappel NB : {}\".format(rappelNB))\n",
    "print(\"precision SVM : {}\".format(precisionSVM))\n",
    "print(\"rappel SVM : {}\".format(rappelSVM))\n",
    "\n",
    "plt.figure()\n",
    "plt.title(\"NB\")\n",
    "plt.imshow(confusion_matrix(y_test, predictedNB))\n",
    "plt.colorbar()\n",
    "plt.show()\n",
    "\n",
    "plt.figure()\n",
    "plt.title(\"SVM\")\n",
    "plt.imshow(confusion_matrix(y_test, predictedSVM))\n",
    "plt.colorbar()\n",
    "plt.show()"
   ]
  },
  {
   "cell_type": "markdown",
   "metadata": {},
   "source": [
    "### Résultats avec différents types de pré-processing"
   ]
  },
  {
   "cell_type": "markdown",
   "metadata": {},
   "source": [
    "**sac de mots, sans processing**\\\n",
    "precision NB : 0.8787265191931268\\\n",
    "rappel NB : 0.846938775510204\\\n",
    "precision SVM : 0.9562006908026367\\\n",
    "rappel SVM : 0.9489795918367347\n",
    "\n",
    "**sac de mots en enlevant les stopwords**\\\n",
    "precision NB : 0.8829212454212454\\\n",
    "rappel NB : 0.863265306122449\\\n",
    "precision SVM : 0.950272776513378\\\n",
    "rappel SVM : 0.9428571428571428\n",
    "\n",
    "**sac de mots avec stemming**\\\n",
    "precision NB : 0.8862360957142027\\\n",
    "rappel NB : 0.8612244897959183\\\n",
    "precision SVM : 0.9589579164999333\\\n",
    "rappel SVM : 0.9530612244897959\n",
    "\n",
    "**bigrammes de lettres, sans processing**\\\n",
    "precision NB : 0.8525469050496453\\\n",
    "rappel NB : 0.7918367346938776\\\n",
    "precision SVM : 0.8942279489393599\\\n",
    "rappel SVM : 0.8857142857142858\n",
    "\n",
    "**1-grammes de lettres, sans processing**\\\n",
    "precision NB : 0.7353625966498101\\\n",
    "rappel NB : 0.6061224489795918\\\n",
    "precision SVM : 0.6729946713386099\\\n",
    "rappel SVM : 0.5612244897959183"
   ]
  }
 ],
 "metadata": {
  "kernelspec": {
   "display_name": "Python 3",
   "language": "python",
   "name": "python3"
  },
  "language_info": {
   "codemirror_mode": {
    "name": "ipython",
    "version": 3
   },
   "file_extension": ".py",
   "mimetype": "text/x-python",
   "name": "python",
   "nbconvert_exporter": "python",
   "pygments_lexer": "ipython3",
   "version": "3.7.3"
  }
 },
 "nbformat": 4,
 "nbformat_minor": 2
}
